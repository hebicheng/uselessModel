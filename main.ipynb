{
 "cells": [
  {
   "cell_type": "code",
   "execution_count": 1,
   "metadata": {},
   "outputs": [],
   "source": [
    "import torch\r\n",
    "import numpy\r\n",
    "import pandas\r\n",
    "import random\r\n",
    "\r\n",
    "from torch import nn\r\n",
    "from torch import optim"
   ]
  },
  {
   "cell_type": "code",
   "execution_count": 2,
   "metadata": {},
   "outputs": [],
   "source": [
    "\"\"\"\r\n",
    "    When specifying a GPU:\r\n",
    "        torch.device('cuda') uses the default GPU\r\n",
    "    For multi-card environments, specify a specific GPU\r\n",
    "        torch.device('cuda:gpu_idx')\r\n",
    "    If the GPU corresponding to the index value does not exist, an error will be reported\r\n",
    "\"\"\" \r\n",
    "\r\n",
    "device = (torch.device('cuda') if torch.cuda.is_available() else torch.device('cpu'))\r\n"
   ]
  },
  {
   "cell_type": "code",
   "execution_count": 3,
   "metadata": {},
   "outputs": [],
   "source": [
    "\"\"\"\r\n",
    "  input|hidden| output\r\n",
    "    o       o\r\n",
    "        o  \r\n",
    "    o       o    o\r\n",
    "        o\r\n",
    "    o       o\r\n",
    "\"\"\"\r\n",
    "\r\n",
    "\r\n",
    "class RandomNN(torch.nn.Module):\r\n",
    "    \r\n",
    "    def __init__(self,):\r\n",
    "        super(RandomNN, self).__init__()\r\n",
    "        self.m_tensor = torch.Tensor(1,2)\r\n",
    "        self.sq = nn.Sequential(\r\n",
    "            nn.Linear(3, 2),\r\n",
    "            nn.Linear(2, 3),\r\n",
    "            nn.Linear(3, 1),\r\n",
    "        )\r\n",
    "        \r\n",
    "        \r\n",
    "    def forward(self, data):\r\n",
    "        return self.sq(data)\r\n",
    "        \r\n",
    "     "
   ]
  },
  {
   "cell_type": "code",
   "execution_count": 4,
   "metadata": {},
   "outputs": [],
   "source": [
    "\"\"\"\r\n",
    "    When move the model to GPU, it's only effects the model,\r\n",
    "    all the member data still on cpu. \r\n",
    "\"\"\"\r\n",
    "\r\n",
    "\r\n",
    "rnn = RandomNN().to(device)"
   ]
  },
  {
   "cell_type": "code",
   "execution_count": 5,
   "metadata": {},
   "outputs": [
    {
     "data": {
      "text/plain": "RandomNN(\n  (sq): Sequential(\n    (0): Linear(in_features=3, out_features=2, bias=True)\n    (1): Linear(in_features=2, out_features=3, bias=True)\n    (2): Linear(in_features=3, out_features=5, bias=True)\n    (3): Linear(in_features=5, out_features=2, bias=True)\n    (4): Linear(in_features=2, out_features=1, bias=True)\n  )\n)"
     },
     "execution_count": 5,
     "metadata": {},
     "output_type": "execute_result"
    }
   ],
   "source": [
    "rnn"
   ]
  },
  {
   "cell_type": "code",
   "execution_count": 6,
   "metadata": {},
   "outputs": [],
   "source": [
    "def dataLoader(batch_size):\r\n",
    "    return (\r\n",
    "            torch.Tensor([[random.random(), random.random(), random.random()] for i in range(batch_size)]),\r\n",
    "            torch.tensor([[3.14] for i in range(batch_size)])\r\n",
    "            )"
   ]
  },
  {
   "cell_type": "code",
   "execution_count": 7,
   "metadata": {},
   "outputs": [],
   "source": [
    "data, label = dataLoader(3)"
   ]
  },
  {
   "cell_type": "code",
   "execution_count": 8,
   "metadata": {},
   "outputs": [],
   "source": [
    "def train():\r\n",
    "    criterion = nn.MSELoss()\r\n",
    "    optimizer = optim.SGD(params=rnn.parameters(), lr=0.0001)\r\n",
    "    batch_size = 64\r\n",
    "    iter_times = 500\r\n",
    "    for it in range(iter_times):\r\n",
    "        for batch in range(1000):\r\n",
    "            data, label = dataLoader(batch_size)\r\n",
    "            data, label = data.to(device), label.to(device)\r\n",
    "            \r\n",
    "            optimizer.zero_grad()\r\n",
    "            \r\n",
    "            out_put = rnn(data)\r\n",
    "            loss = criterion(out_put, label)\r\n",
    "            loss.backward()\r\n",
    "            \r\n",
    "            optimizer.step()\r\n",
    "            \r\n",
    "            if batch % 100 == 0:\r\n",
    "                print(\"iter {}, batch {}, loss:{}\".format(it, batch, loss))"
   ]
  },
  {
   "cell_type": "code",
   "execution_count": null,
   "metadata": {},
   "outputs": [],
   "source": [
    "train()"
   ]
  },
  {
   "cell_type": "code",
   "execution_count": 10,
   "metadata": {},
   "outputs": [
    {
     "data": {
      "text/plain": "tensor([[0.6445, 0.2121, 0.5457],\n        [0.7779, 0.7770, 0.5311],\n        [0.1217, 0.0477, 0.7920],\n        [0.8269, 0.7781, 0.1985],\n        [0.0648, 0.4395, 0.6872],\n        [0.9329, 0.5235, 0.7963],\n        [0.6880, 0.0233, 0.6066],\n        [0.7439, 0.0360, 0.6396],\n        [0.5021, 0.2674, 0.7653],\n        [0.6040, 0.0094, 0.9242]], device='cuda:0')"
     },
     "execution_count": 10,
     "metadata": {},
     "output_type": "execute_result"
    }
   ],
   "source": [
    "data_eval = dataLoader(10)[0].to(device)\r\n",
    "data_eval"
   ]
  },
  {
   "cell_type": "code",
   "execution_count": 11,
   "metadata": {},
   "outputs": [
    {
     "data": {
      "text/plain": "tensor([[3.1459],\n        [3.1368],\n        [3.1506],\n        [3.1319],\n        [3.1424],\n        [3.1454],\n        [3.1500],\n        [3.1505],\n        [3.1478],\n        [3.1548]], device='cuda:0', grad_fn=<AddmmBackward>)"
     },
     "execution_count": 11,
     "metadata": {},
     "output_type": "execute_result"
    }
   ],
   "source": [
    "rnn(data_eval)"
   ]
  },
  {
   "cell_type": "code",
   "execution_count": null,
   "metadata": {},
   "outputs": [],
   "source": []
  }
 ],
 "metadata": {
  "kernelspec": {
   "display_name": "Python 3.7.10 64-bit ('torch': conda)",
   "name": "python3710jvsc74a57bd0f9719a25c65eac2f80fd272a8fefc475a57736c3f377a18a2c15c9b142141fa2"
  },
  "language_info": {
   "codemirror_mode": {
    "name": "ipython",
    "version": 3
   },
   "file_extension": ".py",
   "mimetype": "text/x-python",
   "name": "python",
   "nbconvert_exporter": "python",
   "pygments_lexer": "ipython3",
   "version": "3.7.10"
  },
  "orig_nbformat": 2
 },
 "nbformat": 4,
 "nbformat_minor": 2
}